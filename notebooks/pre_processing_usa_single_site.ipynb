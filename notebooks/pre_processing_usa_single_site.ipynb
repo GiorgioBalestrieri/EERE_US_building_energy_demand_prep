{
 "cells": [
  {
   "cell_type": "markdown",
   "metadata": {},
   "source": [
    "# Pre-process US TMY3 Data - Single Site\n",
    "\n",
    "Input data are available through OpenEI \n",
    "[here](https://openei.org/datasets/dataset/commercial-and-residential-hourly-load-profiles-for-all-tmy3-locations-in-the-united-states)."
   ]
  },
  {
   "cell_type": "code",
   "execution_count": 1,
   "metadata": {},
   "outputs": [],
   "source": [
    "from pathlib import Path\n",
    "import numpy as np\n",
    "import pandas as pd"
   ]
  },
  {
   "cell_type": "markdown",
   "metadata": {},
   "source": [
    "## Parameters"
   ]
  },
  {
   "cell_type": "code",
   "execution_count": 21,
   "metadata": {},
   "outputs": [],
   "source": [
    "year = 2015\n",
    "timestep = 60 # minutes\n",
    "freq = '{}min'.format(timestep)\n",
    "\n",
    "state = 'MA' # US state abbreviation\n",
    "file_identifier = 'USA_' + state # all files start with this id\n",
    "\n",
    "raw_data_path = Path.home() / 'Data/USA_residential_openei'\n",
    "output_path = Path('../data/US_single_site_preprocessed')\n",
    "\n",
    "profile_types_list = ['BASE', 'LOW', 'HIGH']\n",
    "n_profiles = len(profile_types_list)\n",
    "\n",
    "index = pd.DatetimeIndex(start=pd.datetime(year,1,1), \n",
    "                         end=pd.datetime(year+1,1,1), \n",
    "                         freq=freq)[:-1]\n",
    "\n",
    "el_to_heat_cols = ['heating:electricity']\n",
    "el_to_cool_cols = ['cooling:electricity']\n",
    "gas_to_heat_cols = ['heating:gas', 'waterheater:watersystem:gas']\n",
    "\n",
    "gas_to_heat_eff = 0.9\n",
    "el_to_heat_eff = 2.5\n",
    "el_to_cool_eff = 2.5"
   ]
  },
  {
   "cell_type": "markdown",
   "metadata": {},
   "source": [
    "## Mark incomplete files and get column names\n",
    "\n",
    "__Do not run unless necessary__\n",
    "\n",
    "* Files with the wrong length are marked so that they do not cause trouble later on.\n",
    "If necessary, several techniques are available to fill in the missing values.\n",
    "\n",
    "* we get a list of column names"
   ]
  },
  {
   "cell_type": "code",
   "execution_count": 22,
   "metadata": {},
   "outputs": [
    {
     "name": "stdout",
     "output_type": "stream",
     "text": [
      "Checking all files in C:\\Users\\gbalestrieri\\Data\\USA_residential_openei\n",
      "Files with wrong number of entries will be discarded.\n",
      "Finished checking files.\n",
      "\n",
      "Unique columns:\n",
      "Appl:InteriorEquipment:Electricity [kW](Hourly)\n",
      "Cooling:Electricity [kW](Hourly)\n",
      "Date/Time\n",
      "Electricity:Facility [kW](Hourly)\n",
      "Electricity:HVAC [kW](Hourly)\n",
      "Fans:Electricity [kW](Hourly)\n",
      "Gas:Facility [kW](Hourly)\n",
      "General:ExteriorLights:Electricity [kW](Hourly)\n",
      "General:InteriorLights:Electricity [kW](Hourly)\n",
      "HVACFan:Fans:Electricity [kW](Hourly)\n",
      "Heating:Electricity [kW](Hourly)\n",
      "Heating:Gas [kW](Hourly)\n",
      "Misc:InteriorEquipment:Electricity [kW](Hourly)\n",
      "Misc:InteriorEquipment:Electricity [kW](Hourly) \n",
      "Water Heater:WaterSystems:Gas [kW](Hourly) \n"
     ]
    }
   ],
   "source": [
    "print('Checking all files in {}'.format(raw_data_path))\n",
    "print('Files with wrong number of entries will be discarded.')\n",
    "\n",
    "files_to_check = []\n",
    "unique_columns = set()\n",
    "\n",
    "for profile_type in profile_types_list:\n",
    "    \n",
    "    files = (raw_data_path / profile_type).glob(file_identifier + '*.csv')\n",
    "    \n",
    "    for file in files: # one by one, load all selected files\n",
    "        \n",
    "        load_df = pd.read_csv(file) # read csv file\n",
    "        \n",
    "        # get the columns\n",
    "        unique_columns = unique_columns.union(load_df.columns.tolist())\n",
    "        if load_df.columns.str.contains('\\[J\\]').any():\n",
    "            print('Thermal file: {}/{}'.format(profile_type,file.name))\n",
    "        \n",
    "        # remove duplicates\n",
    "        load_df.drop_duplicates(subset=['Date/Time'], inplace=True)\n",
    "        \n",
    "        if load_df.shape[0] < index.shape[0]:\n",
    "            print('Marking {} as incomplete'.format(file.name))\n",
    "            file.rename(file.parent / ('incomplete_' + file.name))\n",
    "            \n",
    "        elif load_df.shape[0] > index.shape[0]:\n",
    "            print('File {} has too many entries.'.format(file.name))\n",
    "            files_to_check.append(file)\n",
    "            file.rename(file.parent / ('too_long_' + file.name))\n",
    "            \n",
    "print('Finished checking files.')\n",
    "print()\n",
    "print('Unique columns:')\n",
    "print(*sorted(list(unique_columns)), sep='\\n')"
   ]
  },
  {
   "cell_type": "markdown",
   "metadata": {},
   "source": [
    "## Load Data"
   ]
  },
  {
   "cell_type": "code",
   "execution_count": 23,
   "metadata": {},
   "outputs": [],
   "source": [
    "n_households = 45 # multiple of 3 because we have base, high and low load profiles\n",
    "\n",
    "assert n_households % n_profiles == 0, '''n_households must be multiple of \n",
    "                                            the number of profile types'''\n",
    "\n",
    "input_cols = (['electricity:facility'] + el_to_heat_cols \n",
    "              + el_to_cool_cols + gas_to_heat_cols)\n",
    "\n",
    "load_df = pd.DataFrame(0, index=index, \n",
    "                       columns=['electricity', 'heating', 'cooling'])\n",
    "\n",
    "for profile_type in profile_types_list:\n",
    "    \n",
    "    # find all csv files in the directory with name starting by 'USA_CA'\n",
    "    # select the first n_households/n_profiles filenames\n",
    "    files = list((raw_data_path / profile_type).glob('{}*.csv'.format(file_identifier))\n",
    "                )[:n_households//n_profiles]\n",
    "    \n",
    "    for file in files: # one by one, load all selected files\n",
    "        \n",
    "        _load_df = pd.read_csv(file) # read csv file\n",
    "        \n",
    "        # remove duplicates\n",
    "        _load_df.drop_duplicates(subset=['Date/Time'], inplace=True)\n",
    "            \n",
    "        _load_df.index = index # set datetime index\n",
    "        \n",
    "        # clean up column names\n",
    "        _load_df.columns = _load_df.columns \\\n",
    "            .str.lower() \\\n",
    "            .str.replace(' ','') \\\n",
    "            .str.replace('\\(hourly\\)', '') \\\n",
    "            .str.replace('\\[kw\\]', '')\n",
    "            \n",
    "        # add missing columns (empty)\n",
    "        for col in input_cols:\n",
    "            if col not in _load_df.columns:\n",
    "                _load_df[col] = 0\n",
    "        \n",
    "        # electricity demand\n",
    "        load_df.electricity += (_load_df['electricity:facility'] \n",
    "                                - _load_df[el_to_heat_cols].sum(axis=1) \n",
    "                                - _load_df[el_to_cool_cols].sum(axis=1))\n",
    "        \n",
    "        # heating demand\n",
    "        load_df.heating += (_load_df[gas_to_heat_cols].sum(axis=1) * gas_to_heat_eff \n",
    "                            + _load_df[el_to_heat_cols].sum(axis=1) * el_to_heat_eff)\n",
    "        \n",
    "        # add cooling demand\n",
    "        load_df.cooling += _load_df[el_to_cool_cols].sum(axis=1) * el_to_cool_eff"
   ]
  },
  {
   "cell_type": "code",
   "execution_count": 24,
   "metadata": {},
   "outputs": [],
   "source": [
    "electricity_df = load_df['electricity']\n",
    "heating_df = load_df['heating']\n",
    "cooling_df = load_df['cooling']"
   ]
  },
  {
   "cell_type": "markdown",
   "metadata": {},
   "source": [
    "## Load Duration Curves"
   ]
  },
  {
   "cell_type": "code",
   "execution_count": 25,
   "metadata": {},
   "outputs": [],
   "source": [
    "%matplotlib inline\n",
    "\n",
    "from matplotlib import pyplot as plt\n",
    "plt.style.use('ggplot')"
   ]
  },
  {
   "cell_type": "code",
   "execution_count": 26,
   "metadata": {},
   "outputs": [
    {
     "data": {
      "image/png": "[encoded data removed]",
      "text/plain": [
       "<Figure size 1152x360 with 1 Axes>"
      ]
     },
     "metadata": {},
     "output_type": "display_data"
    }
   ],
   "source": [
    "fig, ax = plt.subplots(figsize=(16,5))\n",
    "\n",
    "electricity_df.sort_values(ascending=False).reset_index(drop=True).plot(\n",
    "    figsize=(16,5), label='electricity', ax=ax)\n",
    "\n",
    "heating_df.sort_values(ascending=False).reset_index(drop=True).plot(\n",
    "    figsize=(16,5), label='heating', ax=ax)\n",
    "\n",
    "cooling_df.sort_values(ascending=False).reset_index(drop=True).plot(\n",
    "    figsize=(16,5), label='cooling', ax=ax)\n",
    "\n",
    "ax.legend();"
   ]
  },
  {
   "cell_type": "markdown",
   "metadata": {},
   "source": [
    "## Save Data"
   ]
  },
  {
   "cell_type": "code",
   "execution_count": 27,
   "metadata": {},
   "outputs": [],
   "source": [
    "prefix = '{}_{}_'.format(state, n_households)\n",
    "\n",
    "electricity_df.to_csv(output_path / (prefix + 'electricity.csv'), \n",
    "                      index=False, header=None, float_format='%.3f')\n",
    "\n",
    "heating_df.to_csv(output_path / (prefix + 'heating.csv'), \n",
    "                  index=False, header=None, float_format='%.3f')\n",
    "\n",
    "cooling_df.to_csv(output_path / (prefix + 'cooling.csv'), \n",
    "                  index=False, header=None, float_format='%.3f')"
   ]
  }
 ],
 "metadata": {
  "kernelspec": {
   "display_name": "Python 3",
   "language": "python",
   "name": "python3"
  },
  "language_info": {
   "codemirror_mode": {
    "name": "ipython",
    "version": 3
   },
   "file_extension": ".py",
   "mimetype": "text/x-python",
   "name": "python",
   "nbconvert_exporter": "python",
   "pygments_lexer": "ipython3",
   "version": "3.6.4"
  }
 },
 "nbformat": 4,
 "nbformat_minor": 2
}
