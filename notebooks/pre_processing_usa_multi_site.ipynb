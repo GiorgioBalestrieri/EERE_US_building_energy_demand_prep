{
 "cells": [
  {
   "cell_type": "markdown",
   "metadata": {},
   "source": [
    "# Pre-process US TMY3 Data - Multiple Sites\n",
    "\n",
    "Input data are available through OpenEI \n",
    "[here](https://openei.org/datasets/dataset/commercial-and-residential-hourly-load-profiles-for-all-tmy3-locations-in-the-united-states)."
   ]
  },
  {
   "cell_type": "code",
   "execution_count": 9,
   "metadata": {},
   "outputs": [],
   "source": [
    "from pathlib import Path\n",
    "import numpy as np\n",
    "import pandas as pd\n",
    "\n",
    "raw_data_path = Path.home() / Path('Data/USA_commercial_openei/USA_CA_Oakland.Intl.AP.724930_TMY3')\n",
    "output_path = Path('../data/US_multi_site_preprocessed')"
   ]
  },
  {
   "cell_type": "markdown",
   "metadata": {},
   "source": [
    "## Parameters"
   ]
  },
  {
   "cell_type": "code",
   "execution_count": 2,
   "metadata": {},
   "outputs": [],
   "source": [
    "timestep = 60 # minutes\n",
    "freq = '{}min'.format(timestep)\n",
    "\n",
    "# dictionary of sites. Each site has a list of buildings\n",
    "sites_d = {'Hospital': ['Hospital'], \n",
    "           'Office': ['LargeOffice', 'QuickServiceRestaurant', \n",
    "                      'MediumOffice', 'LargeHotel', 'Warehouse'], \n",
    "           'School': ['PrimarySchool', 'SecondarySchool', 'SmallOffice', 'QuickServiceRestaurant'],\n",
    "           'Residential': ['Supermarket', 'FullServiceRestaurant', \n",
    "                           'StripMall', 'MidriseApartment', \n",
    "                           'Supermarket', 'SmallHotel', 'Stand-aloneRetail']\n",
    "          }\n",
    "\n",
    "gas_to_heat_eff = 0.95\n",
    "el_to_heat_eff = 2.5\n",
    "el_to_cool_eff = 2.5"
   ]
  },
  {
   "cell_type": "markdown",
   "metadata": {},
   "source": [
    "## Import Data"
   ]
  },
  {
   "cell_type": "code",
   "execution_count": 3,
   "metadata": {},
   "outputs": [],
   "source": [
    "def get_openei_filename(building):\n",
    "    return 'RefBldg{}New2004_7.1_5.0_3C_USA_CA_SAN_FRANCISCO.csv'.format(building)"
   ]
  },
  {
   "cell_type": "code",
   "execution_count": 4,
   "metadata": {},
   "outputs": [],
   "source": [
    "index = pd.DatetimeIndex(start=pd.datetime(year,1,1), \n",
    "                         end=pd.datetime(year+1,1,1), \n",
    "                         freq=freq)[:-1]\n",
    "\n",
    "load_d = {} # dictionary to store one dataframe per site\n",
    "\n",
    "# all columns used as input\n",
    "input_cols = ['electricity:facility', 'cooling:electricity', \n",
    "              'heating:electricity', 'gas:facility', \n",
    "              'interiorequipment:gas']\n",
    "\n",
    "for site, buildings_l in sites_d.items():\n",
    "    \n",
    "    _site_load_df = pd.DataFrame(0, index=index, \n",
    "                                 columns=['electricity', 'heating', 'cooling'])\n",
    "    \n",
    "    for building in buildings_l:\n",
    "        _filename = get_openei_filename(building)\n",
    "        \n",
    "        # load csv file\n",
    "        _load_df = pd.read_csv(raw_data_path / _filename)\n",
    "        \n",
    "        # set datetime index\n",
    "        _load_df.set_index(index, inplace=True)\n",
    "            \n",
    "        # remove spaces, unit and timestep from column names\n",
    "        _load_df.columns = _load_df.columns \\\n",
    "            .str.replace(' ','') \\\n",
    "            .str.lower() \\\n",
    "            .str.replace('\\[[\\w]*\\]', '') \\\n",
    "            .str.replace('\\(hourly\\)', '')\n",
    "            \n",
    "        # add missing columns (empty)\n",
    "        for col in input_cols:\n",
    "            if col not in _load_df.columns:\n",
    "                _load_df[col] = 0\n",
    "        \n",
    "        # electricity demand\n",
    "        _site_load_df.electricity += (_load_df['electricity:facility'] \n",
    "                                      - _load_df['cooling:electricity'] \n",
    "                                      - _load_df['heating:electricity'])\n",
    "        \n",
    "        # heating demand\n",
    "        _site_load_df.heating += (_load_df['gas:facility'] * gas_to_heat_eff\n",
    "                                  - _load_df['interiorequipment:gas'] * gas_to_heat_eff\n",
    "                                  + _load_df['heating:electricity'] * el_to_heat_eff)\n",
    "        \n",
    "        # add cooling demand\n",
    "        _site_load_df.cooling += _load_df['cooling:electricity'] * el_to_cool_eff\n",
    "        \n",
    "    load_d[site] = _site_load_df"
   ]
  },
  {
   "cell_type": "code",
   "execution_count": 5,
   "metadata": {},
   "outputs": [],
   "source": [
    "electricity_df = pd.DataFrame(dict((building, _df.electricity) \n",
    "                                   for building, _df in load_d.items()))\n",
    "\n",
    "heating_df = pd.DataFrame(dict((building, _df.heating) \n",
    "                                   for building, _df in load_d.items()))\n",
    "\n",
    "cooling_df = pd.DataFrame(dict((building, _df.cooling) \n",
    "                               for building, _df in load_d.items()))"
   ]
  },
  {
   "cell_type": "markdown",
   "metadata": {},
   "source": [
    "## Load Duration Curves"
   ]
  },
  {
   "cell_type": "code",
   "execution_count": 6,
   "metadata": {},
   "outputs": [],
   "source": [
    "%matplotlib inline\n",
    "\n",
    "from matplotlib import pyplot as plt\n",
    "plt.style.use('ggplot')"
   ]
  },
  {
   "cell_type": "code",
   "execution_count": 7,
   "metadata": {},
   "outputs": [
    {
     "data": {
      "image/png": "[encoded data removed]",
      "text/plain": [
       "<Figure size 1152x360 with 1 Axes>"
      ]
     },
     "metadata": {},
     "output_type": "display_data"
    }
   ],
   "source": [
    "fig, ax = plt.subplots(figsize=(16,5))\n",
    "\n",
    "electricity_df.sum(axis=1).sort_values(ascending=False).reset_index(drop=True).plot(\n",
    "    figsize=(16,5), label='electricity', ax=ax)\n",
    "\n",
    "heating_df.sum(axis=1).sort_values(ascending=False).reset_index(drop=True).plot(\n",
    "    figsize=(16,5), label='heating', ax=ax)\n",
    "\n",
    "cooling_df.sum(axis=1).sort_values(ascending=False).reset_index(drop=True).plot(\n",
    "    figsize=(16,5), label='cooling', ax=ax)\n",
    "\n",
    "ax.legend();"
   ]
  },
  {
   "cell_type": "markdown",
   "metadata": {},
   "source": [
    "## Save Data"
   ]
  },
  {
   "cell_type": "code",
   "execution_count": 8,
   "metadata": {},
   "outputs": [],
   "source": [
    "electricity_df.to_csv(output_path / 'electricity.csv', index=False, header=None, float_format='%.3f')\n",
    "heating_df.to_csv(output_path / 'heating.csv', index=False, header=None, float_format='%.3f')\n",
    "cooling_df.to_csv(output_path / 'cooling.csv', index=False, header=None, float_format='%.3f')"
   ]
  }
 ],
 "metadata": {
  "kernelspec": {
   "display_name": "Python 3",
   "language": "python",
   "name": "python3"
  },
  "language_info": {
   "codemirror_mode": {
    "name": "ipython",
    "version": 3
   },
   "file_extension": ".py",
   "mimetype": "text/x-python",
   "name": "python",
   "nbconvert_exporter": "python",
   "pygments_lexer": "ipython3",
   "version": "3.6.4"
  }
 },
 "nbformat": 4,
 "nbformat_minor": 2
}
